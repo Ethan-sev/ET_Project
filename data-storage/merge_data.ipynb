{
 "cells": [
  {
   "cell_type": "code",
   "execution_count": 4,
   "metadata": {},
   "outputs": [],
   "source": [
    "# Dependencies and Setup\n",
    "import hvplot.pandas\n",
    "import pandas as pd\n",
    "import requests\n"
   ]
  },
  {
   "cell_type": "code",
   "execution_count": 5,
   "metadata": {},
   "outputs": [],
   "source": [
    "file_names = ['Baltimore_Data.csv', 'Cincinatti_Data.csv', 'Clark_County_Data.csv', 'Columbus_Data.csv', 'Des_Plaines_Data.csv', 'Everett_Data.csv', 'Kansas_City_Data.csv', 'Oxford_Data.csv', 'Schenectady_Data.csv', 'Springfield_Data.csv']\n",
    "dataframes = [pd.read_csv(file) for file in file_names]\n",
    "\n",
    "# Add a 'City' column to each dataframe\n",
    "cities = ['Baltimore', 'Cincinatti', 'Clark_County', 'Columbus', 'Des_Plaines', 'Everett', 'Kansas_City', 'Oxford', 'Schenectady', 'Springfield']\n",
    "for i, df in enumerate(dataframes):\n",
    "    df['City'] = cities[i]\n",
    "\n",
    "# Concatenate dataframes\n",
    "merged_df = pd.concat(dataframes, ignore_index=True)\n",
    "\n",
    "# Set multi-index\n",
    "merged_df.set_index(['City', 'series'], inplace=True)\n",
    "\n",
    "# Sort the index\n",
    "merged_df.sort_index(inplace=True)\n",
    "\n",
    "# Save the merged dataframe to a new CSV file\n",
    "merged_df.to_csv('merged_data.csv')"
   ]
  },
  {
   "cell_type": "code",
   "execution_count": 7,
   "metadata": {},
   "outputs": [],
   "source": [
    "filtered_df = merged_df[merged_df.index.get_level_values('City') != 'Kansas_City']\n",
    "\n",
    "# Reset the index\n",
    "filtered_df.reset_index(inplace=True)\n",
    "\n",
    "# Save the filtered data to a new CSV file\n",
    "output_file_path = 'filtered_data.csv'\n",
    "filtered_df.to_csv(output_file_path, index=False)"
   ]
  },
  {
   "cell_type": "markdown",
   "metadata": {},
   "source": []
  }
 ],
 "metadata": {
  "kernelspec": {
   "display_name": "base",
   "language": "python",
   "name": "python3"
  },
  "language_info": {
   "codemirror_mode": {
    "name": "ipython",
    "version": 3
   },
   "file_extension": ".py",
   "mimetype": "text/x-python",
   "name": "python",
   "nbconvert_exporter": "python",
   "pygments_lexer": "ipython3",
   "version": "3.11.7"
  }
 },
 "nbformat": 4,
 "nbformat_minor": 2
}
