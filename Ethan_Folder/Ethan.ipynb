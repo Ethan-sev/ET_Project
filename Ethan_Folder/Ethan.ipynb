{
 "cells": [
  {
   "cell_type": "code",
   "execution_count": 12,
   "metadata": {},
   "outputs": [],
   "source": [
    "# Dependencies and Setup\n",
    "import hvplot.pandas\n",
    "import pandas as pd\n",
    "import requests\n",
    "\n",
    "# Import API key\n",
    "from Api_key import Ethan_GeoApify_Key"
   ]
  },
  {
   "cell_type": "code",
   "execution_count": 13,
   "metadata": {},
   "outputs": [
    {
     "data": {
      "text/plain": [
       "400"
      ]
     },
     "execution_count": 13,
     "metadata": {},
     "output_type": "execute_result"
    }
   ],
   "source": [
    "base_url = \"https://api.geoapify.com/v2/places\"\n",
    "# parameters for casino\n",
    "params = {\n",
    "    \"type\": \"accommodation.hotel\",\n",
    "    \"apiKey\": Ethan_GeoApify_Key\n",
    "    \n",
    "}\n",
    "\n",
    "response = requests.get(base_url, params= params)\n",
    "response.status_code"
   ]
  },
  {
   "cell_type": "code",
   "execution_count": 14,
   "metadata": {},
   "outputs": [
    {
     "name": "stdout",
     "output_type": "stream",
     "text": [
      "Request failed with status code: 400\n",
      "Error message: {\"statusCode\":400,\"error\":\"Bad Request\",\"message\":\"\\\"value\\\" must contain at least one of [geometryId, lat1, lat, filter, bias]\"}\n"
     ]
    }
   ],
   "source": [
    "response = requests.get(base_url, params=params)\n",
    "\n",
    "if response.status_code == 200:\n",
    "    # Request was successful\n",
    "    print(\"Request successful\")\n",
    "    # Do something with the response, e.g., response.json()\n",
    "else:\n",
    "    # Request failed\n",
    "    print(\"Request failed with status code:\", response.status_code)\n",
    "    print(\"Error message:\", response.text)"
   ]
  }
 ],
 "metadata": {
  "kernelspec": {
   "display_name": "base",
   "language": "python",
   "name": "python3"
  },
  "language_info": {
   "codemirror_mode": {
    "name": "ipython",
    "version": 3
   },
   "file_extension": ".py",
   "mimetype": "text/x-python",
   "name": "python",
   "nbconvert_exporter": "python",
   "pygments_lexer": "ipython3",
   "version": "3.11.7"
  }
 },
 "nbformat": 4,
 "nbformat_minor": 2
}
